{
 "cells": [
  {
   "cell_type": "markdown",
   "id": "d94b148b",
   "metadata": {},
   "source": [
    "# SINet COD10K Detection\n",
    "Implementazione migliorata di SINet per il rilevamento di oggetti mimetizzati."
   ]
  },
  {
   "cell_type": "code",
   "execution_count": 1,
   "id": "fb6cd511",
   "metadata": {},
   "outputs": [],
   "source": [
    "import torch\n",
    "import torch.nn as nn\n",
    "import torch.optim as optim\n",
    "from torch.utils.data import DataLoader, Dataset\n",
    "from torchvision import transforms, models\n",
    "import os\n",
    "from PIL import Image\n",
    "from sklearn.metrics import jaccard_score\n",
    "import matplotlib.pyplot as plt\n",
    "import random\n",
    "import torch.nn.functional as F"
   ]
  },
  {
   "cell_type": "code",
   "execution_count": 2,
   "id": "88f6409e",
   "metadata": {},
   "outputs": [],
   "source": [
    "device = torch.device('cuda')"
   ]
  },
  {
   "cell_type": "code",
   "execution_count": 3,
   "id": "4a3bb02d",
   "metadata": {},
   "outputs": [],
   "source": [
    "class CODDataset(Dataset):\n",
    "    def __init__(self, image_folder, mask_folder, transform=None):\n",
    "        self.image_folder = image_folder\n",
    "        self.mask_folder = mask_folder\n",
    "        self.transform = transform\n",
    "        self.image_files = [f for f in os.listdir(image_folder)\n",
    "                            if os.path.isfile(os.path.join(mask_folder, f.replace('.jpg', '.png')))]\n",
    "        if len(self.image_files) == 0:\n",
    "            raise ValueError(f\"Nessuna immagine valida trovata in {image_folder} con maschere corrispondenti in {mask_folder}\")\n",
    "\n",
    "    def __len__(self):\n",
    "        return len(self.image_files)\n",
    "\n",
    "    def __getitem__(self, idx):\n",
    "        img_path = os.path.join(self.image_folder, self.image_files[idx])\n",
    "        mask_path = os.path.join(self.mask_folder, self.image_files[idx].replace('.jpg', '.png'))\n",
    "        image = Image.open(img_path).convert(\"RGB\")\n",
    "        mask = Image.open(mask_path).convert(\"L\")\n",
    "        if self.transform:\n",
    "            image = self.transform(image)\n",
    "            mask = self.transform(mask)\n",
    "        return image, mask"
   ]
  },
  {
   "cell_type": "code",
   "execution_count": 4,
   "id": "3038c722",
   "metadata": {},
   "outputs": [],
   "source": [
    "class FocalLoss(nn.Module):\n",
    "    def __init__(self, alpha=0.25, gamma=2.0, reduction='mean'):\n",
    "        super(FocalLoss, self).__init__()\n",
    "        self.alpha = alpha\n",
    "        self.gamma = gamma\n",
    "        self.reduction = reduction\n",
    "\n",
    "    def forward(self, inputs, targets):\n",
    "        BCE_loss = F.binary_cross_entropy(inputs, targets, reduction='none')\n",
    "        pt = torch.exp(-BCE_loss)\n",
    "        F_loss = self.alpha * (1 - pt) ** self.gamma * BCE_loss\n",
    "        return F_loss.mean() if self.reduction == 'mean' else F_loss.sum()"
   ]
  },
  {
   "cell_type": "code",
   "execution_count": 5,
   "id": "43938f3b",
   "metadata": {},
   "outputs": [],
   "source": [
    "transform = transforms.Compose([\n",
    "    transforms.Resize((224, 224)),\n",
    "    transforms.RandomHorizontalFlip(),\n",
    "    transforms.RandomVerticalFlip(),\n",
    "    transforms.RandomRotation(15),\n",
    "    transforms.ColorJitter(brightness=0.3, contrast=0.3, saturation=0.3, hue=0.1),\n",
    "    transforms.GaussianBlur(kernel_size=(3, 3)),\n",
    "    transforms.ToTensor(),\n",
    "    transforms.Normalize(mean=[0.485, 0.456, 0.406], std=[0.229, 0.224, 0.225])\n",
    "])"
   ]
  },
  {
   "cell_type": "code",
   "execution_count": 6,
   "id": "cf8f8faf",
   "metadata": {},
   "outputs": [],
   "source": [
    "train_dataset = CODDataset(r'C:\\Users\\Nicholas\\Desktop\\COD10K-v3\\Train\\Image',\n",
    "                           r'C:\\Users\\Nicholas\\Desktop\\COD10K-v3\\Train\\GT_Object',\n",
    "                           transform=transform)\n",
    "test_dataset = CODDataset(r'C:\\Users\\Nicholas\\Desktop\\COD10K-v3\\Test\\Image',\n",
    "                          r'C:\\Users\\Nicholas\\Desktop\\COD10K-v3\\Test\\GT_Object',\n",
    "                          transform=transform)\n",
    "\n",
    "train_loader = DataLoader(train_dataset, batch_size=8, shuffle=True, num_workers=4, pin_memory=True)\n",
    "test_loader = DataLoader(test_dataset, batch_size=8, shuffle=False, num_workers=4, pin_memory=True)"
   ]
  },
  {
   "cell_type": "code",
   "execution_count": 7,
   "id": "f75ef64c",
   "metadata": {},
   "outputs": [],
   "source": [
    "class SINet(nn.Module):\n",
    "    def __init__(self):\n",
    "        super(SINet, self).__init__()\n",
    "        self.backbone = models.efficientnet_b4(weights=models.EfficientNet_B4_Weights.DEFAULT)\n",
    "        self.backbone_features = self.backbone.features\n",
    "        self.edge_attention = nn.Sequential(\n",
    "            nn.Conv2d(1792, 256, kernel_size=3, padding=1),\n",
    "            nn.ReLU(),\n",
    "            nn.Conv2d(256, 1, kernel_size=1),\n",
    "            nn.Sigmoid()\n",
    "        )\n",
    "        self.decoder = nn.Sequential(\n",
    "            nn.ConvTranspose2d(1792 + 256, 512, kernel_size=2, stride=2),\n",
    "            nn.ReLU(),\n",
    "            nn.ConvTranspose2d(512, 256, kernel_size=2, stride=2),\n",
    "            nn.ReLU(),\n",
    "            nn.ConvTranspose2d(256, 128, kernel_size=2, stride=2),\n",
    "            nn.ReLU(),\n",
    "            nn.ConvTranspose2d(128, 64, kernel_size=2, stride=2),\n",
    "            nn.ReLU(),\n",
    "            nn.ConvTranspose2d(64, 1, kernel_size=2, stride=2),\n",
    "            nn.Sigmoid()\n",
    "        )\n",
    "\n",
    "    def forward(self, x):\n",
    "        features = self.backbone_features(x)\n",
    "        edge_map = self.edge_attention(features)\n",
    "        edge_map = torch.nn.functional.interpolate(edge_map, size=features.shape[2:], mode='bilinear', align_corners=False)\n",
    "        combined = torch.cat((features, edge_map.expand(-1, 256, -1, -1)), dim=1)\n",
    "        output = self.decoder(combined)\n",
    "        return output"
   ]
  },
  {
   "cell_type": "code",
   "execution_count": 8,
   "id": "7e2d8c38",
   "metadata": {},
   "outputs": [
    {
     "ename": "",
     "evalue": "",
     "output_type": "error",
     "traceback": [
      "\u001b[1;31mThe Kernel crashed while executing code in the current cell or a previous cell. \n",
      "\u001b[1;31mPlease review the code in the cell(s) to identify a possible cause of the failure. \n",
      "\u001b[1;31mClick <a href='https://aka.ms/vscodeJupyterKernelCrash'>here</a> for more info. \n",
      "\u001b[1;31mView Jupyter <a href='command:jupyter.viewOutput'>log</a> for further details."
     ]
    }
   ],
   "source": [
    "model = SINet().to(device)\n",
    "criterion = FocalLoss()\n",
    "optimizer = optim.AdamW(model.parameters(), lr=0.0001, weight_decay=1e-4)\n",
    "scheduler = optim.lr_scheduler.CosineAnnealingLR(optimizer, T_max=5, eta_min=1e-6)"
   ]
  },
  {
   "cell_type": "code",
   "execution_count": null,
   "id": "222190e0",
   "metadata": {},
   "outputs": [],
   "source": [
    "for epoch in range(5):\n",
    "    model.train()\n",
    "    total_loss = 0\n",
    "    for images, masks in train_loader:\n",
    "        images, masks = images.to(device), masks.to(device)\n",
    "        preds = model(images)\n",
    "        preds = nn.functional.interpolate(preds, size=masks.shape[2:], mode='bilinear', align_corners=False)\n",
    "        loss = criterion(preds, masks)\n",
    "        optimizer.zero_grad()\n",
    "        loss.backward()\n",
    "        optimizer.step()\n",
    "        total_loss += loss.item()\n",
    "    scheduler.step()\n",
    "    print(f'Epoch {epoch+1}, Loss: {total_loss / len(train_loader):.4f}')"
   ]
  },
  {
   "cell_type": "code",
   "execution_count": null,
   "id": "66fa842a",
   "metadata": {},
   "outputs": [],
   "source": [
    "torch.save(model.state_dict(), 'sinet_cod_model.pth')"
   ]
  },
  {
   "cell_type": "code",
   "execution_count": null,
   "id": "05e0821e",
   "metadata": {},
   "outputs": [],
   "source": [
    "def compute_iou(mask_np, pred_np):\n",
    "    if mask_np.sum() == 0:\n",
    "        return None\n",
    "    return jaccard_score(mask_np, pred_np, zero_division=1)\n",
    "\n",
    "def visualize_predictions(model, dataloader, num_images=10):\n",
    "    model.eval()\n",
    "    iou_scores = []\n",
    "    with torch.no_grad():\n",
    "        for i, (image, mask) in enumerate(dataloader):\n",
    "            if i >= num_images:\n",
    "                break\n",
    "            image = image.unsqueeze(0).to(device)\n",
    "            mask = mask.to(device)\n",
    "            pred = model(image)\n",
    "            pred = (pred > 0.5).float()\n",
    "            mask_np = (mask.squeeze().cpu().numpy() > 0.5).astype(int)\n",
    "            pred_np = (pred.squeeze().cpu().numpy() > 0.5).astype(int)\n",
    "            iou = compute_iou(mask_np, pred_np)\n",
    "            if iou is not None:\n",
    "                iou_scores.append(iou)\n",
    "    print(f\"Mean IoU (filtered): {sum(iou_scores) / len(iou_scores):.2f}\")\n",
    "\n",
    "visualize_predictions(model, test_loader, num_images=10)"
   ]
  }
 ],
 "metadata": {
  "kernelspec": {
   "display_name": "base",
   "language": "python",
   "name": "python3"
  },
  "language_info": {
   "codemirror_mode": {
    "name": "ipython",
    "version": 3
   },
   "file_extension": ".py",
   "mimetype": "text/x-python",
   "name": "python",
   "nbconvert_exporter": "python",
   "pygments_lexer": "ipython3",
   "version": "3.12.3"
  }
 },
 "nbformat": 4,
 "nbformat_minor": 5
}
